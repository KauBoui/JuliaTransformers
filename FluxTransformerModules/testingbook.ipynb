{
 "cells": [
  {
   "cell_type": "code",
   "execution_count": 2,
   "metadata": {},
   "outputs": [
    {
     "name": "stderr",
     "output_type": "stream",
     "text": [
      "\u001b[32m\u001b[1m  Activating\u001b[22m\u001b[39m project at `~/Desktop/CS/JuliaTransformers/FluxTransformerModules/FluxModuleDev`\n"
     ]
    }
   ],
   "source": [
    "using Pkg\n",
    "\n",
    "Pkg.activate(\"FluxModuleDev\")"
   ]
  },
  {
   "cell_type": "code",
   "execution_count": 138,
   "metadata": {},
   "outputs": [
    {
     "name": "stderr",
     "output_type": "stream",
     "text": [
      "\u001b[32m\u001b[1m   Resolving\u001b[22m\u001b[39m package versions...\n"
     ]
    },
    {
     "name": "stderr",
     "output_type": "stream",
     "text": [
      "\u001b[32m\u001b[1m  No Changes\u001b[22m\u001b[39m to `~/Desktop/CS/JuliaTransformers/FluxTransformerModules/FluxModuleDev/Project.toml`\n",
      "\u001b[32m\u001b[1m  No Changes\u001b[22m\u001b[39m to `~/Desktop/CS/JuliaTransformers/FluxTransformerModules/FluxModuleDev/Manifest.toml`\n"
     ]
    },
    {
     "name": "stderr",
     "output_type": "stream",
     "text": [
      "\u001b[32m\u001b[1m   Resolving\u001b[22m\u001b[39m package versions...\n"
     ]
    },
    {
     "name": "stderr",
     "output_type": "stream",
     "text": [
      "\u001b[32m\u001b[1m  No Changes\u001b[22m\u001b[39m to `~/Desktop/CS/JuliaTransformers/FluxTransformerModules/FluxModuleDev/Project.toml`\n",
      "\u001b[32m\u001b[1m  No Changes\u001b[22m\u001b[39m to `~/Desktop/CS/JuliaTransformers/FluxTransformerModules/FluxModuleDev/Manifest.toml`\n"
     ]
    },
    {
     "name": "stderr",
     "output_type": "stream",
     "text": [
      "\u001b[32m\u001b[1m   Resolving\u001b[22m\u001b[39m package versions...\n"
     ]
    },
    {
     "name": "stderr",
     "output_type": "stream",
     "text": [
      "\u001b[32m\u001b[1m  No Changes\u001b[22m\u001b[39m to `~/Desktop/CS/JuliaTransformers/FluxTransformerModules/FluxModuleDev/Project.toml`\n",
      "\u001b[32m\u001b[1m  No Changes\u001b[22m\u001b[39m to `~/Desktop/CS/JuliaTransformers/FluxTransformerModules/FluxModuleDev/Manifest.toml`\n"
     ]
    },
    {
     "name": "stderr",
     "output_type": "stream",
     "text": [
      "\u001b[32m\u001b[1m   Resolving\u001b[22m\u001b[39m package versions...\n"
     ]
    },
    {
     "name": "stderr",
     "output_type": "stream",
     "text": [
      "\u001b[32m\u001b[1m  No Changes\u001b[22m\u001b[39m to `~/Desktop/CS/JuliaTransformers/FluxTransformerModules/FluxModuleDev/Project.toml`\n",
      "\u001b[32m\u001b[1m  No Changes\u001b[22m\u001b[39m to `~/Desktop/CS/JuliaTransformers/FluxTransformerModules/FluxModuleDev/Manifest.toml`\n"
     ]
    },
    {
     "name": "stderr",
     "output_type": "stream",
     "text": [
      "\u001b[32m\u001b[1m   Resolving\u001b[22m\u001b[39m package versions...\n"
     ]
    },
    {
     "name": "stderr",
     "output_type": "stream",
     "text": [
      "\u001b[32m\u001b[1m   Installed\u001b[22m\u001b[39m Parsers ─ v2.4.2\n"
     ]
    },
    {
     "name": "stderr",
     "output_type": "stream",
     "text": [
      "\u001b[32m\u001b[1m    Updating\u001b[22m\u001b[39m `~/Desktop/CS/JuliaTransformers/FluxTransformerModules/FluxModuleDev/Project.toml`\n",
      " \u001b[90m [6e4b80f9] \u001b[39m\u001b[92m+ BenchmarkTools v1.3.1\u001b[39m\n",
      "\u001b[32m\u001b[1m    Updating\u001b[22m\u001b[39m `~/Desktop/CS/JuliaTransformers/FluxTransformerModules/FluxModuleDev/Manifest.toml`\n",
      " \u001b[90m [6e4b80f9] \u001b[39m\u001b[92m+ BenchmarkTools v1.3.1\u001b[39m\n",
      " \u001b[90m [682c06a0] \u001b[39m\u001b[92m+ JSON v0.21.3\u001b[39m\n",
      " \u001b[90m [69de0a69] \u001b[39m\u001b[92m+ Parsers v2.4.2\u001b[39m\n",
      " \u001b[90m [9abbd945] \u001b[39m\u001b[92m+ Profile\u001b[39m\n"
     ]
    },
    {
     "name": "stderr",
     "output_type": "stream",
     "text": [
      "\u001b[32m\u001b[1mPrecompiling\u001b[22m\u001b[39m project...\n"
     ]
    },
    {
     "name": "stderr",
     "output_type": "stream",
     "text": [
      "\u001b[32m  ✓ \u001b[39m\u001b[90mParsers\u001b[39m\n"
     ]
    },
    {
     "name": "stderr",
     "output_type": "stream",
     "text": [
      "\u001b[32m  ✓ \u001b[39m\u001b[90mJSON\u001b[39m\n"
     ]
    },
    {
     "name": "stderr",
     "output_type": "stream",
     "text": [
      "\u001b[32m  ✓ \u001b[39mBenchmarkTools\n"
     ]
    },
    {
     "name": "stderr",
     "output_type": "stream",
     "text": [
      "  3 dependencies successfully precompiled in 4 seconds (95 already precompiled)\n"
     ]
    }
   ],
   "source": [
    "begin \n",
    "    Pkg.add(\"Flux\")\n",
    "    Pkg.add(\"LinearAlgebra\")\n",
    "    Pkg.add(\"CUDA\")\n",
    "    Pkg.add(\"Pipe\")\n",
    "    Pkg.add(\"BenchmarkTools\")\n",
    "end"
   ]
  },
  {
   "cell_type": "code",
   "execution_count": 25,
   "metadata": {},
   "outputs": [
    {
     "ename": "ArgumentError",
     "evalue": "ArgumentError: Package NNlib not found in current path:\n- Run `import Pkg; Pkg.add(\"NNlib\")` to install the NNlib package.\n",
     "output_type": "error",
     "traceback": [
      "ArgumentError: Package NNlib not found in current path:\n",
      "- Run `import Pkg; Pkg.add(\"NNlib\")` to install the NNlib package.\n",
      "\n",
      "\n",
      "Stacktrace:\n",
      "  [1] require(into::Module, mod::Symbol)\n",
      "    @ Base ./loading.jl:967\n",
      "  [2] eval\n",
      "    @ ./boot.jl:373 [inlined]\n",
      "  [3] include_string(mapexpr::typeof(REPL.softscope), mod::Module, code::String, filename::String)\n",
      "    @ Base ./loading.jl:1196\n",
      "  [4] #invokelatest#2\n",
      "    @ ./essentials.jl:716 [inlined]\n",
      "  [5] invokelatest\n",
      "    @ ./essentials.jl:714 [inlined]\n",
      "  [6] (::VSCodeServer.var\"#198#199\"{VSCodeServer.NotebookRunCellArguments, String})()\n",
      "    @ VSCodeServer ~/.vscode/extensions/julialang.language-julia-1.38.2/scripts/packages/VSCodeServer/src/serve_notebook.jl:19\n",
      "  [7] withpath(f::VSCodeServer.var\"#198#199\"{VSCodeServer.NotebookRunCellArguments, String}, path::String)\n",
      "    @ VSCodeServer ~/.vscode/extensions/julialang.language-julia-1.38.2/scripts/packages/VSCodeServer/src/repl.jl:249\n",
      "  [8] notebook_runcell_request(conn::VSCodeServer.JSONRPC.JSONRPCEndpoint{Base.PipeEndpoint, Base.PipeEndpoint}, params::VSCodeServer.NotebookRunCellArguments)\n",
      "    @ VSCodeServer ~/.vscode/extensions/julialang.language-julia-1.38.2/scripts/packages/VSCodeServer/src/serve_notebook.jl:13\n",
      "  [9] dispatch_msg(x::VSCodeServer.JSONRPC.JSONRPCEndpoint{Base.PipeEndpoint, Base.PipeEndpoint}, dispatcher::VSCodeServer.JSONRPC.MsgDispatcher, msg::Dict{String, Any})\n",
      "    @ VSCodeServer.JSONRPC ~/.vscode/extensions/julialang.language-julia-1.38.2/scripts/packages/JSONRPC/src/typed.jl:67\n",
      " [10] serve_notebook(pipename::String, outputchannel_logger::Base.CoreLogging.SimpleLogger; crashreporting_pipename::String)\n",
      "    @ VSCodeServer ~/.vscode/extensions/julialang.language-julia-1.38.2/scripts/packages/VSCodeServer/src/serve_notebook.jl:139\n",
      " [11] top-level scope\n",
      "    @ ~/.vscode/extensions/julialang.language-julia-1.38.2/scripts/notebook/notebook.jl:32"
     ]
    }
   ],
   "source": [
    "using Flux\n",
    "using BenchmarkTools\n",
    "using LinearAlgebra\n",
    "using CUDA\n",
    "using Pipe\n"
   ]
  },
  {
   "cell_type": "code",
   "execution_count": 4,
   "metadata": {},
   "outputs": [
    {
     "data": {
      "text/plain": [
       "3×6 Matrix{Int64}:\n",
       " 1  2  3  2  6  5\n",
       " 0  4  4  5  6  5\n",
       " 4  6  5  8  6  4"
      ]
     },
     "metadata": {},
     "output_type": "display_data"
    }
   ],
   "source": [
    "const Q = [1 1 2 2 3 3 ; 1 1 3 3 4 6 ; 1 3 4 5 6 7]\n",
    "const K = [1 2 3 2 6 5 ; 0 4 4 5 6 5 ; 4 6 5 8 6 4]"
   ]
  },
  {
   "cell_type": "code",
   "execution_count": 5,
   "metadata": {},
   "outputs": [
    {
     "data": {
      "text/plain": [
       "sdpa (generic function with 1 method)"
      ]
     },
     "metadata": {},
     "output_type": "display_data"
    }
   ],
   "source": [
    "function sdpa(Q::AbstractArray, K::AbstractArray, V::AbstractArray)\n",
    "    size(Q) == size(K) ? nothing : AssertionError(\"Dimension of query (Q) and keys (K) must match!\") |> throw\n",
    "    dₖ =  size(K)[1]\n",
    "    Kᵀ = transpose(K)\n",
    "    return (softmax(Q * Kᵀ) / √dₖ) * V\n",
    "end"
   ]
  },
  {
   "cell_type": "code",
   "execution_count": 51,
   "metadata": {},
   "outputs": [
    {
     "data": {
      "text/plain": [
       "windowedattn (generic function with 1 method)"
      ]
     },
     "metadata": {},
     "output_type": "display_data"
    }
   ],
   "source": [
    "function windowedattn(Q::AbstractArray, K::AbstractArray, blocksize::Int, window::Int)\n",
    "\n",
    "    Q_dims = size(Q)\n",
    "    K_dims = size(K)\n",
    "    Q_dims[2] % blocksize == 0 ? (num_blocks = (Q_dims[2] / blocksize) |> Integer) : AssertionError(\"Block size must divide query length!\") |> throw\n",
    "    window % 2 == 0 ? AssertionError(\"Window size must be odd!\") |> throw : nothing\n",
    "    Q_dims == K_dims ? nothing : AssertionError(\"Dimension of query (Q) and keys (K) must match!\") |> throw\n",
    "    dₖ =  K_dims[1]\n",
    "\n",
    "    block_Q = @pipe reshape(Q, (dₖ, blocksize, num_blocks)) |> permutedims(_, (2, 1, 3))\n",
    "    block_K = @pipe reshape(K, (dₖ, blocksize, num_blocks)) |> permutedims(_, (1, 2, 3))\n",
    "\n",
    "    shift = (window-1)/2 \n",
    "    rolled_K = [circshift(block_K, n) for n ∈ range(-shift,shift)]\n",
    "    \n",
    "    return [batched_mul(block_Q, Kᵣ) for Kᵣ ∈ rolled_K]\n",
    "\n",
    "end"
   ]
  },
  {
   "cell_type": "code",
   "execution_count": 52,
   "metadata": {},
   "outputs": [
    {
     "name": "stdout",
     "output_type": "stream",
     "text": [
      "  4.907 μs (95 allocations: 189.42 KiB)\n"
     ]
    },
    {
     "data": {
      "text/plain": [
       "3-element Vector{Array{Int64, 3}}:\n",
       " [5 12; 7 16;;; 35 42; 38 44;;; 78 61; 96 74]\n",
       " [5 12; 13 24;;; 38 51; 43 59;;; 78 59; 96 73]\n",
       " [5 12; 5 20;;; 35 42; 39 47;;; 78 62; 96 77]"
      ]
     },
     "metadata": {},
     "output_type": "display_data"
    }
   ],
   "source": [
    "@btime windowedattn($Q,$K,2,3) "
   ]
  },
  {
   "cell_type": "code",
   "execution_count": 49,
   "metadata": {},
   "outputs": [
    {
     "data": {
      "text/plain": [
       "2×2×3 Array{Int64, 3}:\n",
       "[:, :, 1] =\n",
       " 5  12\n",
       " 7  16\n",
       "\n",
       "[:, :, 2] =\n",
       " 35  42\n",
       " 38  44\n",
       "\n",
       "[:, :, 3] =\n",
       " 78  61\n",
       " 96  74"
      ]
     },
     "metadata": {},
     "output_type": "display_data"
    }
   ],
   "source": [
    "attn[1]"
   ]
  },
  {
   "cell_type": "code",
   "execution_count": 62,
   "metadata": {},
   "outputs": [
    {
     "data": {
      "text/plain": [
       "5-element Vector{Float64}:\n",
       " -2.0\n",
       " -1.0\n",
       "  0.0\n",
       "  1.0\n",
       "  2.0"
      ]
     },
     "metadata": {},
     "output_type": "display_data"
    }
   ],
   "source": [
    "rolls(5)"
   ]
  },
  {
   "cell_type": "code",
   "execution_count": 58,
   "metadata": {},
   "outputs": [
    {
     "data": {
      "text/plain": [
       "3×2 Matrix{Int64}:\n",
       " 3  4\n",
       " 3  6\n",
       " 1  2"
      ]
     },
     "metadata": {},
     "output_type": "display_data"
    }
   ],
   "source": [
    "x = circshift(1 2;3 4 ;3 6],2)"
   ]
  },
  {
   "cell_type": "code",
   "execution_count": 52,
   "metadata": {},
   "outputs": [
    {
     "data": {
      "text/plain": [
       "4-element Vector{Int64}:\n",
       " 3\n",
       " 4\n",
       " 1\n",
       " 2"
      ]
     },
     "metadata": {},
     "output_type": "display_data"
    }
   ],
   "source": []
  },
  {
   "cell_type": "code",
   "execution_count": 37,
   "metadata": {},
   "outputs": [
    {
     "data": {
      "text/plain": [
       "3×2 Matrix{Int64}:\n",
       " 1  3\n",
       " 1  4\n",
       " 3  2"
      ]
     },
     "metadata": {},
     "output_type": "display_data"
    }
   ],
   "source": [
    "K = [1 2 ; 0 4 ]\n",
    "V = [1 3 4 ; 1 3 2]\n",
    "V = reshape(V,(3,:))"
   ]
  },
  {
   "cell_type": "code",
   "execution_count": 32,
   "metadata": {},
   "outputs": [
    {
     "data": {
      "text/plain": [
       "2×3 Matrix{Float64}:\n",
       " 0.707107  2.12132  2.12132\n",
       " 0.707107  2.12132  2.12132"
      ]
     },
     "metadata": {},
     "output_type": "display_data"
    }
   ],
   "source": [
    "sdpa(Q,K,V)"
   ]
  },
  {
   "cell_type": "code",
   "execution_count": null,
   "metadata": {},
   "outputs": [],
   "source": []
  }
 ],
 "metadata": {
  "kernelspec": {
   "display_name": "Julia 1.7.3",
   "language": "julia",
   "name": "julia-1.7"
  },
  "language_info": {
   "file_extension": ".jl",
   "mimetype": "application/julia",
   "name": "julia",
   "version": "1.7.3"
  },
  "orig_nbformat": 4
 },
 "nbformat": 4,
 "nbformat_minor": 2
}
